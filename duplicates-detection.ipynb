{
 "metadata": {
  "name": "",
  "signature": "sha256:f2980d4fde1e275e75bf0ca407cb369c9bf95a7fccafc37d4caccc1116dce441"
 },
 "nbformat": 3,
 "nbformat_minor": 0,
 "worksheets": [
  {
   "cells": [
    {
     "cell_type": "code",
     "collapsed": false,
     "input": [
      "from bs4 import BeautifulSoup\n",
      "import requests\n",
      "import re\n",
      "import time\n",
      "import cProfile\n",
      "from MinHash import compute_signature, MinHash_set, jaccard_sim\n",
      "from collections import defaultdict as ddict\n",
      "from title_detection import title_signature"
     ],
     "language": "python",
     "metadata": {},
     "outputs": [],
     "prompt_number": 1
    },
    {
     "cell_type": "code",
     "collapsed": false,
     "input": [
      "fn = 'url.txt'\n",
      "with open(fn, 'r') as file:\n",
      "    url_set = {line.rstrip('\\n') for line in file}"
     ],
     "language": "python",
     "metadata": {},
     "outputs": [],
     "prompt_number": 2
    },
    {
     "cell_type": "heading",
     "level": 1,
     "metadata": {},
     "source": [
      "Duplicates detection using signatures and MinHashing"
     ]
    },
    {
     "cell_type": "markdown",
     "metadata": {},
     "source": [
      "Here is the list of url we choose :\n",
      " - https://code.google.com/p/smhasher/\n",
      " - http://www.crutchfield.com/S-9nWHkoAgrEp/\n",
      " - http://www.crutchfield.com/S-TWcbiNReN5e/\n",
      " - http://www.apple.com/ca/\n",
      " - http://www.apple.com\n",
      " - http://stackoverflow.com/questions/15819050/pandas-dataframe-concat-vs-append\n",
      " - http://stackoverflow.com/questions/12229124/stacking-numpy-arrays\n",
      " - http://www.apple.com/fr/\n",
      " - https://fr-ca.facebook.com/\n",
      " - https://fr-fr.facebook.com/\n",
      " - http://www.microsoft.com/fr-ca/default.aspx\n",
      " - http://www.microsoft.com/fr-fr/default.aspx\n",
      " \n",
      " Goal detect pages that are almost identical."
     ]
    },
    {
     "cell_type": "heading",
     "level": 3,
     "metadata": {},
     "source": [
      "A simple signature model "
     ]
    },
    {
     "cell_type": "markdown",
     "metadata": {},
     "source": [
      "The first model we use is very simple.\n",
      " 1. we extract the title of the page\n",
      " 2. we compute the set of shingles of size 3 : consecutive sequences of string of character of length 3.\n",
      " 3. We hash each element of the set and store them in a set called the signature set\n",
      " \n",
      " "
     ]
    },
    {
     "cell_type": "code",
     "collapsed": false,
     "input": [
      "signature_dict = ddict()\n",
      "for url in url_set:\n",
      "    soup = BeautifulSoup(requests.get(url).text)\n",
      "    title = soup.title.text\n",
      "    url_sign = title_signature(title, shingle_size=3)\n",
      "    signature_dict[url] = [title, url_sign]"
     ],
     "language": "python",
     "metadata": {},
     "outputs": [],
     "prompt_number": 3
    },
    {
     "cell_type": "heading",
     "level": 3,
     "metadata": {},
     "source": [
      "Demo"
     ]
    },
    {
     "cell_type": "markdown",
     "metadata": {},
     "source": [
      "Let's find pages that are duplicates or near duplicate to a given page :"
     ]
    },
    {
     "cell_type": "code",
     "collapsed": false,
     "input": [
      "# change the page url for your favorite one\n",
      "page_url = \"http://www.apple.com\"\n",
      "\n",
      "# Optional change the shingle size :\n",
      "n_shingles = 3"
     ],
     "language": "python",
     "metadata": {},
     "outputs": [],
     "prompt_number": 4
    },
    {
     "cell_type": "code",
     "collapsed": false,
     "input": [
      "page_html = BeautifulSoup(requests.get(page_url).text)\n",
      "page_title = page_html.title.text\n",
      "page_signature = title_signature(page_title, shingle_size=n_shingles)\n",
      "print(\"Here is the signature of your document : \\n \", page_title, page_signature)"
     ],
     "language": "python",
     "metadata": {},
     "outputs": [
      {
       "output_type": "stream",
       "stream": "stdout",
       "text": [
        "Here is the signature of your document : \n",
        "  Apple {'1262823370', '-162361821', '908288958'}\n"
       ]
      }
     ],
     "prompt_number": 5
    },
    {
     "cell_type": "markdown",
     "metadata": {},
     "source": [
      "We then compare this signature with the signatures of our collection of documents :"
     ]
    },
    {
     "cell_type": "code",
     "collapsed": false,
     "input": [
      "res_dict = {k:[v[0], jaccard_sim(page_signature, v[1])] for k,v in signature_dict.items()}\n",
      "for k, v in res_dict.items():\n",
      "    print(k, v[0], ' \\n ', v[1])"
     ],
     "language": "python",
     "metadata": {},
     "outputs": [
      {
       "output_type": "stream",
       "stream": "stdout",
       "text": [
        "http://www.apple.com Apple  \n",
        "  1.0\n",
        "https://code.google.com/p/smhasher/ \n",
        " smhasher -\n",
        " \n",
        " \n",
        " Test your hash functions. - Google Project Hosting\n",
        "   \n",
        "  0.0\n",
        "https://fr-ca.facebook.com/ Bienvenue sur Facebook. Connectez-vous, inscrivez-vous ou d\u00e9couvrez!  \n",
        "  0.0\n",
        "http://stackoverflow.com/questions/15819050/pandas-dataframe-concat-vs-append python - Pandas DataFrame concat vs append - Stack Overflow  \n",
        "  0.0\n",
        "http://www.apple.com/ca/ Apple (Canada)  \n",
        "  0.2727272727272727\n",
        "https://fr-fr.facebook.com/ Bienvenue sur Facebook. Connectez-vous, inscrivez-vous ou d\u00e9couvrez\u00a0!  \n",
        "  0.0\n",
        "http://www.crutchfield.com/S-TWcbiNReN5e/ \r\n",
        "\tCrutchfield: Car Stereo, Speakers, Home Theater, Pro Audio, 4k TV\r\n",
        "  \n",
        "  0.0\n",
        "http://www.crutchfield.com/S-9nWHkoAgrEp/ \r\n",
        "\tCrutchfield: Car Stereo, Speakers, Home Theater, Pro Audio, 4k TV\r\n",
        "  \n",
        "  0.0\n",
        "http://www.microsoft.com/fr-ca/default.aspx Microsoft Canada | Appareils et services  \n",
        "  0.02857142857142857\n",
        "http://stackoverflow.com/questions/12229124/stacking-numpy-arrays python - stacking numpy arrays? - Stack Overflow  \n",
        "  0.0\n",
        "http://www.apple.com/fr/ Apple  \n",
        "  1.0\n",
        "http://www.microsoft.com/fr-fr/default.aspx Microsoft France | Logiciels, PC, tablettes, smartphones et services  \n",
        "  0.0\n"
       ]
      }
     ],
     "prompt_number": 6
    },
    {
     "cell_type": "heading",
     "level": 3,
     "metadata": {},
     "source": [
      "Minhashing"
     ]
    },
    {
     "cell_type": "markdown",
     "metadata": {},
     "source": [
      "After this very simple yet quite poweful technique we now develop a more sophisticated model. In the previous model we only use information contained in the title. Now we will use the full document and extract a signature for that document. Of course the provious technique using shingling and hashing is not really efficient since we will have signature set of thousands of elements. We will use a technique call MinHashing to compute a fingerprint of the signature set.\n",
      "\n",
      "We first compute the MinHash fingerprints of our collection :"
     ]
    },
    {
     "cell_type": "code",
     "collapsed": false,
     "input": [
      "MinHash_dict = ddict()\n",
      "n = 25\n",
      "for url in url_set:\n",
      "    soup = requests.get(url).text\n",
      "    url_signature = compute_signature(soup, shingle_size=9)\n",
      "    MinHash_dict[url] = MinHash_set(url_signature, n)"
     ],
     "language": "python",
     "metadata": {},
     "outputs": [],
     "prompt_number": 18
    },
    {
     "cell_type": "heading",
     "level": 3,
     "metadata": {},
     "source": [
      "Demo"
     ]
    },
    {
     "cell_type": "code",
     "collapsed": false,
     "input": [
      "# Again change the page url for your favorite one\n",
      "test_url = \"http://www.apple.com\"\n",
      "# Optional change the shingle size :\n",
      "n_shingles = 9\n",
      "m = 25"
     ],
     "language": "python",
     "metadata": {},
     "outputs": [],
     "prompt_number": 19
    },
    {
     "cell_type": "code",
     "collapsed": false,
     "input": [
      "page = requests.get(test_url).text\n",
      "print(BeautifulSoup(page).title.text)\n",
      "signature = compute_signature(page, shingle_size=n_shingles)\n",
      "minhash = MinHash_set(signature, m)\n",
      "print(\"Here is the fingerprint of your document : \\n \", minhash)"
     ],
     "language": "python",
     "metadata": {},
     "outputs": [
      {
       "output_type": "stream",
       "stream": "stdout",
       "text": [
        "Apple\n",
        "Here is the fingerprint of your document : \n",
        "  {13007232, 487937, 9273348, 741254, 4004874, 5242257, 18877334, 15415703, 33452072, 524976, 13019196, 3182652, 4769215, 1051715, 22104647, 10702677, 5189089, 3400035, 2330212, 13679591, 4752745, 1383789, 2865007, 6286193, 16544760}\n"
       ]
      }
     ],
     "prompt_number": 20
    },
    {
     "cell_type": "markdown",
     "metadata": {},
     "source": [
      "We then compare this MinHash fingerprint with the MinHash fingerprints of web pages in our collection :"
     ]
    },
    {
     "cell_type": "code",
     "collapsed": false,
     "input": [
      "sim_dict = {k:jaccard_sim(minhash, v) for k,v in MinHash_dict.items()}\n",
      "for k, v in sim_dict.items():\n",
      "    print(k, v)"
     ],
     "language": "python",
     "metadata": {},
     "outputs": [
      {
       "output_type": "stream",
       "stream": "stdout",
       "text": [
        "http://www.apple.com 1.0\n",
        "https://code.google.com/p/smhasher/ 0.0\n",
        "https://fr-ca.facebook.com/ 0.0\n",
        "http://stackoverflow.com/questions/15819050/pandas-dataframe-concat-vs-append 0.0\n",
        "http://www.apple.com/ca/ 0.3888888888888889\n",
        "https://fr-fr.facebook.com/ 0.0\n",
        "http://www.crutchfield.com/S-TWcbiNReN5e/ 0.0\n",
        "http://www.crutchfield.com/S-9nWHkoAgrEp/ 0.0\n",
        "http://www.microsoft.com/fr-ca/default.aspx 0.0\n",
        "http://stackoverflow.com/questions/12229124/stacking-numpy-arrays 0.0\n",
        "http://www.apple.com/fr/ 0.041666666666666664\n",
        "http://www.microsoft.com/fr-fr/default.aspx 0.0\n"
       ]
      }
     ],
     "prompt_number": 21
    },
    {
     "cell_type": "heading",
     "level": 3,
     "metadata": {},
     "source": [
      "Comparaison of results"
     ]
    },
    {
     "cell_type": "code",
     "collapsed": false,
     "input": [
      "for a in res_dict.keys():\n",
      "    print(a,'|', res_dict[a][1], sim_dict[a])"
     ],
     "language": "python",
     "metadata": {},
     "outputs": [
      {
       "output_type": "stream",
       "stream": "stdout",
       "text": [
        "http://www.apple.com | 1.0 1.0\n",
        "https://code.google.com/p/smhasher/ | 0.0 0.0\n",
        "https://fr-ca.facebook.com/ | 0.0 0.0\n",
        "http://stackoverflow.com/questions/15819050/pandas-dataframe-concat-vs-append | 0.0 0.0\n",
        "http://www.apple.com/ca/ | 0.2727272727272727 0.3888888888888889\n",
        "https://fr-fr.facebook.com/ | 0.0 0.0\n",
        "http://www.crutchfield.com/S-TWcbiNReN5e/ | 0.0 0.0\n",
        "http://www.crutchfield.com/S-9nWHkoAgrEp/ | 0.0 0.0\n",
        "http://www.microsoft.com/fr-ca/default.aspx | 0.02857142857142857 0.0\n",
        "http://stackoverflow.com/questions/12229124/stacking-numpy-arrays | 0.0 0.0\n",
        "http://www.apple.com/fr/ | 1.0 0.041666666666666664\n",
        "http://www.microsoft.com/fr-fr/default.aspx | 0.0 0.0\n"
       ]
      }
     ],
     "prompt_number": 22
    },
    {
     "cell_type": "code",
     "collapsed": false,
     "input": [],
     "language": "python",
     "metadata": {},
     "outputs": [],
     "prompt_number": 150
    },
    {
     "cell_type": "code",
     "collapsed": false,
     "input": [],
     "language": "python",
     "metadata": {},
     "outputs": []
    }
   ],
   "metadata": {}
  }
 ]
}